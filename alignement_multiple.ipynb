{
 "cells": [
  {
   "cell_type": "code",
   "execution_count": 134,
   "outputs": [],
   "source": [
    "# Jupyter NoteBook pour la question 2 du devoir 2 IFT3295\n",
    "# Fait par Maggie Robert & Louis-André Brassard\n",
    "# Faire bien attention de rouler le notebook d'un coup dans l'ordre pour éviter\n",
    "# que certaines listes ne soit modifier plus qu'elles le doivent"
   ],
   "metadata": {
    "collapsed": false
   }
  },
  {
   "cell_type": "code",
   "execution_count": 135,
   "outputs": [],
   "source": [
    "import numpy as np\n",
    "import blosum as bl\n",
    "from itertools import combinations"
   ],
   "metadata": {
    "collapsed": false
   }
  },
  {
   "cell_type": "code",
   "execution_count": 136,
   "outputs": [],
   "source": [
    "def read_fasta(fp):\n",
    "    name, seq = None, []\n",
    "    for line in fp:\n",
    "        line = line.rstrip()\n",
    "        if line.startswith(\">\"):\n",
    "            if name: yield (name, ''.join(seq))\n",
    "            name, seq = line, []\n",
    "        else:\n",
    "            seq.append(line)\n",
    "    if name: yield (name, ''.join(seq))"
   ],
   "metadata": {
    "collapsed": false
   }
  },
  {
   "cell_type": "code",
   "execution_count": 137,
   "outputs": [],
   "source": [
    "# read fasta sequences\n",
    "reads = []\n",
    "names = []\n",
    "with open('sequences.fasta') as fp:\n",
    "    for (name, seq) in read_fasta(fp):\n",
    "        names.append(name)\n",
    "        reads.append(seq)\n",
    "\n"
   ],
   "metadata": {
    "collapsed": false
   }
  },
  {
   "cell_type": "code",
   "execution_count": 138,
   "outputs": [],
   "source": [
    "# create dictionary from Blosum62 matrix from https://www.biostars.org/p/405990/\n",
    "# bd.get('AA') to get the score wanted\n",
    "mat = bl.BLOSUM(62)\n",
    "bd = dict(mat)"
   ],
   "metadata": {
    "collapsed": false
   }
  },
  {
   "cell_type": "code",
   "execution_count": 139,
   "outputs": [],
   "source": [
    "def score(c1, c2):\n",
    "    return int(bd.get(c1 + c2))"
   ],
   "metadata": {
    "collapsed": false
   }
  },
  {
   "cell_type": "code",
   "execution_count": 140,
   "outputs": [],
   "source": [
    "def alignement_global(s1, s2):\n",
    "    a = -10\n",
    "    b = -1\n",
    "\n",
    "    M = np.ones(shape=(len(s2) + 1, len(s1) + 1)) * np.NINF\n",
    "    X = np.ones(shape=(len(s2) + 1, len(s1) + 1)) * np.NINF\n",
    "    Y = np.ones(shape=(len(s2) + 1, len(s1) + 1)) * np.NINF\n",
    "\n",
    "    # Initial conditions\n",
    "    M[0][0] = 0\n",
    "\n",
    "    for i in range(len(s2) + 1):\n",
    "        X[i][0] = a + b * i\n",
    "\n",
    "    for j in range(len(s1) + 1):\n",
    "        Y[0][j] = a + b * j\n",
    "\n",
    "    for row in range(1, len(s2) + 1):\n",
    "        for col in range(1, len(s1) + 1):\n",
    "            character1 = s1[col - 1]\n",
    "            character2 = s2[row - 1]\n",
    "            sim_score = score(character1, character2)\n",
    "\n",
    "            # M[row][col] = max(M[row - 1][col - 1] + sim_score, X[row - 1][col - 1] + sim_score,\n",
    "            #                   Y[row - 1][col - 1] + sim_score)\n",
    "            # X[row][col] = max(X[row - 1][col] + b, M[row - 1][col] + a + b)\n",
    "            # Y[row][col] = max(Y[row][col - 1] + b, M[row][col - 1] + a + b)\n",
    "\n",
    "            X[row][col] = max((a + b + M[row][col - 1]), (b + X[row][col - 1]), (a + b + Y[row][col - 1]))\n",
    "            Y[row][col] = max((a + b + M[row - 1][col]), (a + b + X[row - 1][col]), (b + Y[row - 1][col]))\n",
    "            M[row][col] = max((sim_score + M[row - 1][col - 1]), (X[row][col]), (Y[row][col]))\n",
    "\n",
    "    return [M, X, Y]"
   ],
   "metadata": {
    "collapsed": false
   }
  },
  {
   "cell_type": "code",
   "execution_count": 141,
   "outputs": [],
   "source": [
    "def sim_matrix():\n",
    "    m = np.zeros(shape=(len(reads), len(reads)))\n",
    "    for i in range(len(reads)):\n",
    "        for j in range(len(reads)):\n",
    "            v = alignement_global(reads[i], reads[j])\n",
    "            v1 = v[0][len(reads[j])][len(reads[i])]\n",
    "            v2 = v[1][len(reads[j])][len(reads[i])]\n",
    "            v3 = v[2][len(reads[j])][len(reads[i])]\n",
    "            m[i][j] = max(v1, v2, v3)\n",
    "\n",
    "    print(m)\n",
    "    return m\n"
   ],
   "metadata": {
    "collapsed": false
   }
  },
  {
   "cell_type": "code",
   "execution_count": 142,
   "outputs": [],
   "source": [
    "def seq_centrale(m):\n",
    "    total = []\n",
    "    for row in m:\n",
    "        sum = 0\n",
    "        for s in row:\n",
    "            sum += s\n",
    "\n",
    "        total.append(sum)\n",
    "\n",
    "    index = 0\n",
    "    min_value = 99999999999\n",
    "    for i in range(len(total)):\n",
    "        if total[i] < min_value:\n",
    "            min_value = total[i]\n",
    "            index = i\n",
    "\n",
    "    print('La séquence centrale est ' + 'S' + str(index + 1))\n",
    "    print(min_value)\n",
    "    print(total)"
   ],
   "metadata": {
    "collapsed": false
   }
  },
  {
   "cell_type": "code",
   "execution_count": 143,
   "outputs": [],
   "source": [
    "def backtrace(s1,s2, M,X,Y):\n",
    "    seq1 = ''\n",
    "    seq2 = ''\n",
    "\n",
    "    i = len(s2)\n",
    "    j = len(s1)\n",
    "\n",
    "    insertion =[]\n",
    "\n",
    "    while i > 0 or j > 0:\n",
    "        if i > 0 and j > 0 and M[i][j] == M[i-1][j-1] + score(s2[i - 1],s1[j - 1]) :\n",
    "            seq1 += s1[j-1]\n",
    "            seq2 += s2[i-1]\n",
    "            i -= 1\n",
    "            j -= 1\n",
    "        elif i > 0 and M[i][j] == Y[i][j]:\n",
    "            seq1 += '*'\n",
    "            seq2 += s2[i-1]\n",
    "            i -= 1\n",
    "            insertion.insert(0,i)\n",
    "        elif j > 0 and M[i][j] == X[i][j]:\n",
    "            seq1 += s1[j-1]\n",
    "            seq2 += '*'\n",
    "            j -= 1\n",
    "\n",
    "    seq1r = ''.join([seq1[j] for j in range(-1, -(len(seq1) + 1), -1)])\n",
    "    seq2r = ''.join([seq2[j] for j in range(-1, -(len(seq2) + 1), -1)])\n",
    "\n",
    "    return [seq1r, seq2r,insertion]"
   ],
   "metadata": {
    "collapsed": false
   }
  },
  {
   "cell_type": "code",
   "execution_count": 144,
   "outputs": [
    {
     "name": "stdout",
     "output_type": "stream",
     "text": [
      "[[808.  54.  20.  34.  80.]\n",
      " [ 54. 983.  94. 143.  77.]\n",
      " [ 20.  94. 737.  86.  16.]\n",
      " [ 34. 143.  86. 809.  20.]\n",
      " [ 80.  77.  16.  20. 772.]]\n",
      "La séquence centrale est S3\n",
      "953.0\n",
      "[996.0, 1351.0, 953.0, 1092.0, 965.0]\n"
     ]
    }
   ],
   "source": [
    "# Find similarity matrix\n",
    "sim_mat = sim_matrix()\n",
    "\n",
    "# Find central sequence\n",
    "seq_centrale(sim_mat)"
   ],
   "metadata": {
    "collapsed": false
   }
  },
  {
   "cell_type": "code",
   "execution_count": 145,
   "outputs": [],
   "source": [
    "def add_indels(word_list, ll):\n",
    "    results = []\n",
    "    for s in word_list:\n",
    "        inv = len(s)\n",
    "        for i in ll:\n",
    "            if i > inv:\n",
    "                s = s + '*'\n",
    "            else:\n",
    "                s = s[:int(i)] + '*' + s[int(i):]\n",
    "        results.append(s)\n",
    "    return results"
   ],
   "metadata": {
    "collapsed": false
   }
  },
  {
   "cell_type": "code",
   "execution_count": 146,
   "outputs": [
    {
     "name": "stdout",
     "output_type": "stream",
     "text": [
      "MGEIGFTEKQEALVKESWEILKQDIPKYSLHFFSQILEIAPAAKGLFSFLRDSDEVPHNNPKLKAHAVKVFKMTCETAIQLREEGKVVVADTTLQYLGSIHLKSGVIDP*HFEVVKEALLRTLKEGLGEKYNEEVEGAWSQAYDHLALAIKTEMKQEES\n"
     ]
    }
   ],
   "source": [
    "# s3 - s1 alignement\n",
    "star_alignment = []\n",
    "central = reads[2]\n",
    "[M, X, Y] = alignement_global(central, reads[0])\n",
    "c, s, insertions = backtrace(central, reads[0], M, X, Y)\n",
    "central = c\n",
    "star_alignment.append(s)\n",
    "print(*star_alignment, sep=\"\\n\")"
   ],
   "metadata": {
    "collapsed": false
   }
  },
  {
   "cell_type": "code",
   "execution_count": 147,
   "outputs": [
    {
     "name": "stdout",
     "output_type": "stream",
     "text": [
      "M***************GEIGFTEKQEALVKESWEILKQDIPKYSLHFFSQILEIAPAAKGLFSFLRDS*DEV*PHNNPKLKAHAVKVFKMTCETAIQLREEGKVVVADTTLQYLGSIHLKSGVIDP*HFEVVKEALLRTLKEGLGEKYNEEVEGAWSQAYDHLALAIKTEMKQEES***********************\n",
      "MEKVPGEMEIERRERSEELSEAERKA**VQATWARLYANCEDVGVAILVRFFVNFPSAKQYFSQFKHMEEPLEMERSPQLRKHACRVMGALNTVVENL**HDPEKVSS*VLSLVGKAHALKHKVEPVYFKILSGVILEVIAEEFANDFPPETQ****RAWAKLRGLIYSHVTAAYKEVGWVQQVPNATTPPATLPSSGP\n",
      "M****************VLSAADKNN**VKGIFTKIAGHAEEYGAETLERMFTTYPPTKTYFPHF****D*LSH*GSAQIKGHGKKVVAALIEAANHI**DD***IAG*TLSKLSDLHAHKLRVDPVNFKLLGQCFLVVVAIHHPAALTPEVH***A*SLDKFLCAVGTVLTAKYR***********************\n"
     ]
    }
   ],
   "source": [
    "# s3 -s2 alignment\n",
    "[M, X, Y] = alignement_global(central, reads[1])\n",
    "c, s , insertions = backtrace(central, reads[1], M, X, Y)\n",
    "central = c\n",
    "# add new indels to s1\n",
    "star_alignment = add_indels(star_alignment, insertions)\n",
    "star_alignment.append(s)\n",
    "print(*star_alignment, sep=\"\\n\")\n",
    "print(central)"
   ],
   "metadata": {
    "collapsed": false
   }
  },
  {
   "cell_type": "code",
   "execution_count": 148,
   "outputs": [
    {
     "name": "stdout",
     "output_type": "stream",
     "text": [
      "M***************GEIGFTEKQEALVKESWEILKQDIPKYSLHFFSQILEIAPAAKGLFSFLRDS*DEV****PHNNPKLKAHAVKVFKMTCETAIQLREEGKVVVADTTLQYLGSIHLKSGVIDP*HFEVVKEALLRTLKEGLGEKYNE*EVEGAWSQAYDHLALAIKTEMKQEES***********************\n",
      "MEKVPGEMEIERRERSEELSEAERKA**VQATWARLYANCEDVGVAILVRFFVNFPSAKQYFSQFKHMEEPLE***MERSPQLRKHACRVMGALNTVVENL**HDPEKVSS*VLSLVGKAHALKHKVEPVYFKILSGVILEVIAEEFANDFPP*ETQ****RAWAKLRGLIYSHVTAAYKEVGWVQQVPNATTPPATLPSSGP\n",
      "M******************GLSDGEWQLVLNVWGKVEADIPGHGQEVLIRLFKGHPETLEKFDKFKHLKSEDEMKASEDLKKHGATVLTALGGILKKKGH*********HEAEIKPLAQSHATKHKIPVKYLEFISECIIQVLQSKHPGDFGADAQ****GAMNKALELFRKDMASNYK******************ELGFQG\n",
      "M****************VLSAADKNN**VKGIFTKIAGHAEEYGAETLERMFTTYPPTKTYFPHF****D*LSH*GSAQIKGHGKKVVAAL***IEAANHI**DD***IAG*TLSKLSDLHAHKLRVDPVNFKLLGQCFLVVVAIHHPAALTPEVH***A*SLDKFLCAVGTVLTAKYR************************\n"
     ]
    }
   ],
   "source": [
    "# s3 -s4 alignment\n",
    "[M, X, Y] = alignement_global(central, reads[3])\n",
    "c, s, insertions = backtrace(central, reads[3], M, X, Y)\n",
    "central = c\n",
    "# add indels to s1 and s2\n",
    "star_alignment = add_indels(star_alignment,insertions)\n",
    "star_alignment.append(s)\n",
    "print(*star_alignment, sep=\"\\n\")\n",
    "print(central)"
   ],
   "metadata": {
    "collapsed": false
   }
  },
  {
   "cell_type": "code",
   "execution_count": 149,
   "outputs": [
    {
     "name": "stdout",
     "output_type": "stream",
     "text": [
      "M***************GEIGFTEKQEALVKESWEIL***KQDIPKYS*LHFFSQILEIAPAAKGLFSFLRDS*DEV****PHNNPKL****KAH*AV*KVFKMTCETAIQLREEGKVVVADTTLQYLGSIHLKSGVIDP*HFEVVKEALLRTLKEGLGEKYNE*EVEGAWSQAYDHLALAIKTEMKQEES***********************\n",
      "MEKVPGEMEIERRERSEELSEAERKA**VQATWARL***YANCEDVG*VAILVRFFVNFPSAKQYFSQFKHMEEPLE***MERSPQL****RKH*AC*RVMGALNTVVENL**HDPEKVSS*VLSLVGKAHALKHKVEPVYFKILSGVILEVIAEEFANDFPP*ETQ****RAWAKLRGLIYSHVTAAYKEVGWVQQVPNATTPPATLPSSGP\n",
      "M******************GLSDGEWQLVLNVWGKV***EADIPGHG*QEVLIRLFKGHPETLEKFDKFKHLKSEDEMKASEDLKKH****GAT*VL*TALGGILKKKGH*********HEAEIKPLAQSHATKHKIPVKYLEFISECIIQVLQSKHPGDFGADAQ****GAMNKALELFRKDMASNYK******************ELGFQG\n",
      "M********************ERLESELIRQSWRAVSRSPLEHGTVLFSRLFALEPSLLPLFQYNGRQFSSPEDCLS***SPEFLDHIRKVM**LV**IDAA*****VTN**VED**LSSLEEYLATLGRKHRAVGVRLSSFSTVGES*LLYM*L**EKCLGPDFTP**ATR*TAWSQLYGAVVQAMSR*******************GWDGE\n"
     ]
    }
   ],
   "source": [
    "# s3 -s5 alignment\n",
    "[M, X, Y] = alignement_global(central, reads[4])\n",
    "c, s, insertions = backtrace(central, reads[4], M, X, Y)\n",
    "central = c\n",
    "# add new indels to s1 s2 s4\n",
    "star_alignment = add_indels(star_alignment,insertions)\n",
    "star_alignment.append(s)\n",
    "print(*star_alignment, sep=\"\\n\")"
   ],
   "metadata": {
    "collapsed": false
   }
  },
  {
   "cell_type": "code",
   "execution_count": 150,
   "outputs": [
    {
     "name": "stdout",
     "output_type": "stream",
     "text": [
      "M---------------GEIGFTEKQEALVKESWEIL---KQDIPKYS-LHFFSQILEIAPAAKGLFSFLRDS-DEV----PHNNPKL----KAH-AV-KVFKMTCETAIQLREEGKVVVADTTLQYLGSIHLKSGVIDP-HFEVVKEALLRTLKEGLGEKYNE-EVEGAWSQAYDHLALAIKTEMKQEES-----------------------\n",
      "MEKVPGEMEIERRERSEELSEAERKA--VQATWARL---YANCEDVG-VAILVRFFVNFPSAKQYFSQFKHMEEPLE---MERSPQL----RKH-AC-RVMGALNTVVENL--HDPEKVSS-VLSLVGKAHALKHKVEPVYFKILSGVILEVIAEEFANDFPP-ETQ----RAWAKLRGLIYSHVTAAYKEVGWVQQVPNATTPPATLPSSGP\n",
      "M----------------VLSAADKNN--VKGIFTKIAGHAEEYGAETLERMFTTYP---PTKTYFPH-F----D-LSH-GSAQIKGHGKKVVAAL---IEAANHI--DD---IAG-TLSKLSD----LHA-HK-LRVDPVNFKLLGQCFLVVVAIHHPAALTPEVH---A-SLDKFLCAVGTVLTAKYR------------------------\n",
      "M------------------GLSDGEWQLVLNVWGKV---EADIPGHG-QEVLIRLFKGHPETLEKFDKFKHLKSEDEMKASEDLKKH----GAT-VL-TALGGILKKKGH---------HEAEIKPLAQSHATKHKIPVKYLEFISECIIQVLQSKHPGDFGADAQ----GAMNKALELFRKDMASNYK------------------ELGFQG\n",
      "M--------------------ERLESELIRQSWRAVSRSPLEHGTVLFSRLFALEPSLLPLFQYNGRQFSSPEDCLS---SPEFLDHIRKVM--LV--IDAA-----VTN--VED--LSSLEEYLATLGRKHRAVGVRLSSFSTVGES-LLYM-L--EKCLGPDFTP--ATR-TAWSQLYGAVVQAMSR-------------------GWDGE\n"
     ]
    }
   ],
   "source": [
    "star_alignment.insert(2,central)\n",
    "for i in star_alignment:\n",
    "    print(i.replace('*','-'))"
   ],
   "metadata": {
    "collapsed": false
   }
  },
  {
   "cell_type": "code",
   "execution_count": 151,
   "outputs": [
    {
     "data": {
      "text/plain": "-1818"
     },
     "execution_count": 151,
     "metadata": {},
     "output_type": "execute_result"
    }
   ],
   "source": [
    "# Give the SP score based on similarity\n",
    "def scoreSP(central_align):\n",
    "    comb = combinations(central_align, 2)\n",
    "    total = 0\n",
    "    for c in comb:\n",
    "        for i in range(len(c[0])):\n",
    "            x = c[0][i]\n",
    "            y = c[1][i]\n",
    "            if c[0][0] == '*' or c[1][0] == '*' and c[0][0] != c[1][0]:\n",
    "                total += -11\n",
    "\n",
    "            elif c[0][i] == '*' and c[1][i] == '*':\n",
    "                total += 0\n",
    "\n",
    "            # Ouverture gap en s1\n",
    "            elif c[0][i] == '*' and c[0][i-1] != '*' :\n",
    "                total += -11\n",
    "\n",
    "            # ouverture gap en s2\n",
    "            elif c[1][i] == '*' and c[1][i-1] != '*' :\n",
    "                total += -11\n",
    "\n",
    "            #extension gap s1\n",
    "            elif c[0][i] == '*' and c[0][i-1] == '*':\n",
    "                total += -1\n",
    "\n",
    "            # extension gap s2\n",
    "            elif c[1][i] == '*' and c[1][i-1] == '*':\n",
    "                total += -1\n",
    "            else:\n",
    "                total += score(c[0][i], c[1][i])\n",
    "    return total\n",
    "scoreSP(star_alignment)"
   ],
   "metadata": {
    "collapsed": false
   }
  },
  {
   "cell_type": "code",
   "execution_count": 152,
   "outputs": [
    {
     "data": {
      "text/plain": "'M----------------------------------------------------------P-------------------------------------*-------------------------------------------------------------------------------------------------------------------'"
     },
     "execution_count": 152,
     "metadata": {},
     "output_type": "execute_result"
    }
   ],
   "source": [
    "# Give the concensus alignment Z\n",
    "\n",
    "def concessus(ca):\n",
    "    Z = ''\n",
    "    for i in range(len(ca[0])):\n",
    "        if ca[0][i] == ca[1][i] == ca[2][i] == ca[3][i] == ca[4][i]:\n",
    "            Z += ca[0][i]\n",
    "        else:\n",
    "            Z += '-'\n",
    "    return Z\n",
    "concessus(star_alignment)"
   ],
   "metadata": {
    "collapsed": false
   }
  },
  {
   "cell_type": "code",
   "execution_count": 152,
   "outputs": [],
   "source": [],
   "metadata": {
    "collapsed": false
   }
  }
 ],
 "metadata": {
  "kernelspec": {
   "display_name": "Python 3",
   "language": "python",
   "name": "python3"
  },
  "language_info": {
   "codemirror_mode": {
    "name": "ipython",
    "version": 2
   },
   "file_extension": ".py",
   "mimetype": "text/x-python",
   "name": "python",
   "nbconvert_exporter": "python",
   "pygments_lexer": "ipython2",
   "version": "2.7.6"
  }
 },
 "nbformat": 4,
 "nbformat_minor": 0
}
