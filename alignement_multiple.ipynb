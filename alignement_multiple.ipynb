{
 "cells": [
  {
   "cell_type": "code",
   "execution_count": 37,
   "outputs": [],
   "source": [
    "import numpy as np\n",
    "import pandas as pd"
   ],
   "metadata": {
    "collapsed": false
   }
  },
  {
   "cell_type": "code",
   "execution_count": 63,
   "outputs": [
    {
     "name": "stdout",
     "output_type": "stream",
     "text": [
      "['MGEIGFTEKQEALVKESWEILKQDIPKYSLHFFSQILEIAPAAKGLFSFLRDSDEVPHNNPKLKAHAVKVFKMTCETAIQLREEGKVVVADTTLQYLGSIHLKSGVIDPHFEVVKEALLRTLKEGLGEKYNEEVEGAWSQAYDHLALAIKTEMKQEES', 'MEKVPGEMEIERRERSEELSEAERKAVQATWARLYANCEDVGVAILVRFFVNFPSAKQYFSQFKHMEEPLEMERSPQLRKHACRVMGALNTVVENLHDPEKVSSVLSLVGKAHALKHKVEPVYFKILSGVILEVIAEEFANDFPPETQRAWAKLRGLIYSHVTAAYKEVGWVQQVPNATTPPATLPSSGP', 'MVLSAADKNNVKGIFTKIAGHAEEYGAETLERMFTTYPPTKTYFPHFDLSHGSAQIKGHGKKVVAALIEAANHIDDIAGTLSKLSDLHAHKLRVDPVNFKLLGQCFLVVVAIHHPAALTPEVHASLDKFLCAVGTVLTAKYR', 'MGLSDGEWQLVLNVWGKVEADIPGHGQEVLIRLFKGHPETLEKFDKFKHLKSEDEMKASEDLKKHGATVLTALGGILKKKGHHEAEIKPLAQSHATKHKIPVKYLEFISECIIQVLQSKHPGDFGADAQGAMNKALELFRKDMASNYKELGFQG', 'MERLESELIRQSWRAVSRSPLEHGTVLFSRLFALEPSLLPLFQYNGRQFSSPEDCLSSPEFLDHIRKVMLVIDAAVTNVEDLSSLEEYLATLGRKHRAVGVRLSSFSTVGESLLYMLEKCLGPDFTPATRTAWSQLYGAVVQAMSRGWDGE']\n"
     ]
    }
   ],
   "source": [
    "# lire le fichier de sequence et stock les 5 sequence\n",
    "with open ('sequences.fasta','r') as seq :\n",
    "    lines = seq.readlines()\n",
    "\n",
    "sequences = []\n",
    "s = ''\n",
    "for line in lines:\n",
    "\n",
    "    if line == '\\n' or line == '':\n",
    "        sequences.append(s)\n",
    "        s = ''\n",
    "    elif line[0] != '>' :\n",
    "        s += line.strip('\\n')\n",
    "sequences.append(s)\n",
    "print(sequences)"
   ],
   "metadata": {
    "collapsed": false
   }
  },
  {
   "cell_type": "code",
   "execution_count": 68,
   "outputs": [],
   "source": [
    "# lire le fichier de score d'alignement et creer la matrice de score utilise\n",
    "with open('BLOSUM62.txt', 'r') as scores:\n",
    "    lines = scores.readlines()\n",
    "\n",
    "kv = dict()\n",
    "scoreMatrix = []\n",
    "\n",
    "for line in lines:\n",
    "    # create a key:pair value for each possible AA that are indicated in the first row\n",
    "    if line[0] == ' ':\n",
    "        x = line.replace(' ', '')\n",
    "        for i in range(len(x)):\n",
    "            kv.update({x[i]: i})\n",
    "\n",
    "    #Create the score matrix from the blosum file without the header and the first colum\n",
    "    #Square matrix starting at 0,0 for A,A\n",
    "    else:\n",
    "        values = line[2:].replace(' ', ',').replace(',,', ',').strip(',\\n')\n",
    "        if values[0] == ',':\n",
    "            values = values[1:]\n",
    "        row = values.split(',')\n",
    "        scoreMatrix.append(row)\n"
   ],
   "metadata": {
    "collapsed": false
   }
  },
  {
   "cell_type": "code",
   "execution_count": 69,
   "outputs": [],
   "source": [
    "# Trouver le score d'alignement dans notre fonction\n",
    "def score(char1, char2):\n",
    "    key1 = kv.get(char1)\n",
    "    key2 = kv.get(char2)\n",
    "\n",
    "    result = int(scoreMatrix[key1][key2])\n",
    "    return result"
   ],
   "metadata": {
    "collapsed": false
   }
  },
  {
   "cell_type": "code",
   "execution_count": 70,
   "outputs": [],
   "source": [
    "# Alignement global entre sequences\n",
    "def global_alignment (s1,s2):\n",
    "    a = 10\n",
    "    b = 1\n",
    "\n",
    "    # Matrix initialisation\n",
    "    V = np.ones(shape=(len(s2)  +1, len(s1) + 1)) * np.NINF\n",
    "    G = np.ones(shape=(len(s2) + 1, len(s1) + 1)) * np.NINF\n",
    "    F = np.ones(shape=(len(s2) + 1, len(s1) + 1)) * np.NINF\n",
    "    E = np.ones(shape=(len(s2) + 1, len(s1) + 1)) * np.NINF\n",
    "\n",
    "    #Initial conditions\n",
    "    G[0][0] = 0\n",
    "\n",
    "    for i in range(len(s2)+1):\n",
    "        V[i][0] = -(a + b * i)\n",
    "        F[i][0] = -(a + b * i)\n",
    "\n",
    "    for j in range(len(s1)+1):\n",
    "        V[0][j] = -(a + b * j)\n",
    "        E[0][j] = -(a + b * j)\n",
    "\n",
    "    for r in range(1, len(s2)+1):\n",
    "        for c in range(1,len(s1)+1):\n",
    "\n",
    "            # Character looked at\n",
    "            char1 = s1[c - 1]\n",
    "            char2 = s2[r - 1]\n",
    "\n",
    "            # update G matrix\n",
    "            G[r][c] = V[r - 1][c - 1] + score(char1, char2)\n",
    "\n",
    "            # update E matrix\n",
    "            v1 = E[r][c-1]\n",
    "            v2 = V[r][c-1] - a\n",
    "            E[r][c] = max(v1, v2) - b\n",
    "\n",
    "            # update F matrix\n",
    "            v1 = F[r-1][c]\n",
    "            v2 = V[r-1][c] - a\n",
    "            F[r][c] = max(v1, v2) - b\n",
    "\n",
    "            # update V matrix\n",
    "            V[r][c] = max(G[r][c], E[r][c], F[r][c])\n",
    "\n",
    "    return V[len(s2)][len(s1)]"
   ],
   "metadata": {
    "collapsed": false
   }
  },
  {
   "cell_type": "code",
   "execution_count": 71,
   "outputs": [
    {
     "name": "stdout",
     "output_type": "stream",
     "text": [
      "46.0\n",
      "46.0\n"
     ]
    }
   ],
   "source": [
    "a1 = \"MGEIGFTEKQEALVKESWEILKQDIPKYSLHFFSQILEIAPAAKGLFSFLRDSDEVPHNNPKLKAHAVKVFKMTCETAIQLREEGKVVVADTTLQYLGSIHLKSGVIDPHFEVVKEALLRTLKEGLGEKYNEEVEGAWSQAYDHLALAIKTEMKQEES\"\n",
    "a2 = \"MEKVPGEMEIERRERSEELSEAERKAVQATWARLYANCEDVGVAILVRFFVNFPSAKQYFSQFKHMEEPLEMERSPQLRKHACRVMGALNTVVENLHDPEKVSSVLSLVGKAHALKHKVEPVYFKILSGVILEVIAEEFANDFPPETQRAWAKLRGLIYSHVTAAYKEVGWVQQVPNATTPPATLPSSGP\"\n",
    "print(global_alignment(a1,a2))\n",
    "print(global_alignment(a2,a1))"
   ],
   "metadata": {
    "collapsed": false
   }
  },
  {
   "cell_type": "code",
   "execution_count": 72,
   "outputs": [
    {
     "name": "stdout",
     "output_type": "stream",
     "text": [
      "[[798.  46.  13.  30.  72.]\n",
      " [ 46. 973.  87. 136.  67.]\n",
      " [ 13.  87. 727.  76.  13.]\n",
      " [ 30. 136.  76. 799.  14.]\n",
      " [ 72.  67.  13.  14. 762.]]\n"
     ]
    }
   ],
   "source": [
    "# trouver la matrice des score de similarité\n",
    "sim_mat = np.zeros(shape=(len(sequences), len(sequences)))\n",
    "for i in range(len(sequences)):\n",
    "    for j in range(len(sequences)):\n",
    "        sim_mat[i][j] = global_alignment(sequences[i],sequences[j])\n",
    "print(sim_mat)"
   ],
   "metadata": {
    "collapsed": false
   }
  },
  {
   "cell_type": "code",
   "execution_count": null,
   "outputs": [],
   "source": [
    "# deduire la sequence centrale parmis les mots"
   ],
   "metadata": {
    "collapsed": false
   }
  },
  {
   "cell_type": "code",
   "execution_count": null,
   "outputs": [],
   "source": [
    "# Construire l'alignement multiple avec la methode centrales"
   ],
   "metadata": {
    "collapsed": false
   }
  },
  {
   "cell_type": "code",
   "execution_count": null,
   "outputs": [],
   "source": [
    "# donner le score SP de l'alignement etoile"
   ],
   "metadata": {
    "collapsed": false
   }
  },
  {
   "cell_type": "code",
   "execution_count": null,
   "outputs": [],
   "source": [
    "# Donnez la sequence consensus Z de l'alignement"
   ],
   "metadata": {
    "collapsed": false
   }
  }
 ],
 "metadata": {
  "kernelspec": {
   "display_name": "Python 3",
   "language": "python",
   "name": "python3"
  },
  "language_info": {
   "codemirror_mode": {
    "name": "ipython",
    "version": 2
   },
   "file_extension": ".py",
   "mimetype": "text/x-python",
   "name": "python",
   "nbconvert_exporter": "python",
   "pygments_lexer": "ipython2",
   "version": "2.7.6"
  }
 },
 "nbformat": 4,
 "nbformat_minor": 0
}
